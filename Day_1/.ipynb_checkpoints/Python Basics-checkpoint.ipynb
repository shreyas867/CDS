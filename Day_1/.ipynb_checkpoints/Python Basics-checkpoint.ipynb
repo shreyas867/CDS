{
 "cells": [
  {
   "cell_type": "code",
   "execution_count": 1,
   "id": "dd772fe7",
   "metadata": {},
   "outputs": [
    {
     "name": "stdout",
     "output_type": "stream",
     "text": [
      "I am new to programming\n"
     ]
    }
   ],
   "source": [
    "print(\"I am new to programming\")"
   ]
  },
  {
   "cell_type": "markdown",
   "id": "432b4b5a",
   "metadata": {},
   "source": [
    "### What is Language?\n",
    "Its a medium of communication"
   ]
  }
 ],
 "metadata": {
  "kernelspec": {
   "display_name": "Python 3 (ipykernel)",
   "language": "python",
   "name": "python3"
  },
  "language_info": {
   "codemirror_mode": {
    "name": "ipython",
    "version": 3
   },
   "file_extension": ".py",
   "mimetype": "text/x-python",
   "name": "python",
   "nbconvert_exporter": "python",
   "pygments_lexer": "ipython3",
   "version": "3.9.7"
  }
 },
 "nbformat": 4,
 "nbformat_minor": 5
}
