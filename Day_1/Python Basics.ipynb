{
 "cells": [
  {
   "cell_type": "code",
   "execution_count": 1,
   "id": "0309d96e",
   "metadata": {},
   "outputs": [
    {
     "name": "stdout",
     "output_type": "stream",
     "text": [
      "I am new to programming\n"
     ]
    }
   ],
   "source": [
    "print(\"I am new to programming\")"
   ]
  },
  {
   "cell_type": "markdown",
   "id": "154c9be8",
   "metadata": {},
   "source": [
    "### What is Language?\n",
    "Its a medium of communication\n",
    "\n",
    "Programming language-> computer(using instructions or set of statements)"
   ]
  },
  {
   "cell_type": "code",
   "execution_count": null,
   "id": "97aa18d3",
   "metadata": {},
   "outputs": [],
   "source": []
  }
 ],
 "metadata": {
  "kernelspec": {
   "display_name": "Python 3 (ipykernel)",
   "language": "python",
   "name": "python3"
  },
  "language_info": {
   "codemirror_mode": {
    "name": "ipython",
    "version": 3
   },
   "file_extension": ".py",
   "mimetype": "text/x-python",
   "name": "python",
   "nbconvert_exporter": "python",
   "pygments_lexer": "ipython3",
   "version": "3.9.7"
  }
 },
 "nbformat": 4,
 "nbformat_minor": 5
}
