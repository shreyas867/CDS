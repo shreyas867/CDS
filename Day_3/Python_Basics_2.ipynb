{
 "cells": [
  {
   "cell_type": "code",
   "execution_count": 1,
   "id": "caa6ba73",
   "metadata": {},
   "outputs": [
    {
     "name": "stdout",
     "output_type": "stream",
     "text": [
      "{}\n",
      "{}\n"
     ]
    }
   ],
   "source": [
    "#dictionary #key and value pairs\n",
    "dict1=dict()\n",
    "print(dict1)\n",
    "dict2={}\n",
    "print(dict2)"
   ]
  },
  {
   "cell_type": "code",
   "execution_count": 2,
   "id": "7b10a9ce",
   "metadata": {},
   "outputs": [
    {
     "name": "stdout",
     "output_type": "stream",
     "text": [
      "{1: 'bangalore', 2: 'mysore', 3: 'chennai', 4: 'hyderabad'}\n",
      "<class 'dict'>\n"
     ]
    }
   ],
   "source": [
    "dict3 = {1:\"bangalore\",2:\"mysore\",3:\"chennai\",4:\"hyderabad\"}\n",
    "print(dict3)\n",
    "print(type(dict3))"
   ]
  },
  {
   "cell_type": "code",
   "execution_count": 3,
   "id": "95bc732b",
   "metadata": {},
   "outputs": [
    {
     "name": "stdout",
     "output_type": "stream",
     "text": [
      "{1: 'pune', 2: 'mysore', 3: 'chennai', 4: 'hyderabad'}\n"
     ]
    }
   ],
   "source": [
    "dict3[1]=\"pune\"\n",
    "print(dict3)"
   ]
  },
  {
   "cell_type": "code",
   "execution_count": 4,
   "id": "07611722",
   "metadata": {},
   "outputs": [
    {
     "name": "stdout",
     "output_type": "stream",
     "text": [
      "{1: 'bangalore', 2: 'mysore', 3: 'chennai', 4: 'singapore'}\n",
      "<class 'dict'>\n"
     ]
    }
   ],
   "source": [
    "dict4 = {1:\"bangalore\",2:\"mysore\",3:\"chennai\",4:\"hyderabad\",4:\"singapore\"}\n",
    "print(dict4)\n",
    "print(type(dict4))"
   ]
  },
  {
   "cell_type": "code",
   "execution_count": 5,
   "id": "ba8ac909",
   "metadata": {},
   "outputs": [
    {
     "name": "stdout",
     "output_type": "stream",
     "text": [
      "{1: 'bangalore', 2: 'mysore', 3: 'chennai', 4: 'hyderabad', 5: 'mysore'}\n",
      "<class 'dict'>\n"
     ]
    }
   ],
   "source": [
    "dict5 = {1:\"bangalore\",2:\"mysore\",3:\"chennai\",4:\"hyderabad\",5:\"mysore\"}\n",
    "print(dict5)\n",
    "print(type(dict5))"
   ]
  },
  {
   "cell_type": "code",
   "execution_count": 6,
   "id": "e1020b6b",
   "metadata": {},
   "outputs": [
    {
     "name": "stdout",
     "output_type": "stream",
     "text": [
      "1\n",
      "2\n",
      "3\n",
      "4\n",
      "5\n"
     ]
    }
   ],
   "source": [
    "for i in dict5:\n",
    "    print(i)"
   ]
  },
  {
   "cell_type": "code",
   "execution_count": 7,
   "id": "9a7a1344",
   "metadata": {},
   "outputs": [
    {
     "name": "stdout",
     "output_type": "stream",
     "text": [
      "(1, 'bangalore')\n",
      "(2, 'mysore')\n",
      "(3, 'chennai')\n",
      "(4, 'hyderabad')\n",
      "(5, 'mysore')\n"
     ]
    }
   ],
   "source": [
    "for i in dict5.items():\n",
    "    print(i)\n",
    "    \n",
    "    #items will pick both key and value pairs"
   ]
  },
  {
   "cell_type": "code",
   "execution_count": 8,
   "id": "c99735e3",
   "metadata": {},
   "outputs": [
    {
     "name": "stdout",
     "output_type": "stream",
     "text": [
      "set()\n",
      "<class 'set'>\n"
     ]
    }
   ],
   "source": [
    "#set is a collection of keys/collection of unique values\n",
    "set2=set()\n",
    "print(set2)\n",
    "print(type(set2))"
   ]
  },
  {
   "cell_type": "code",
   "execution_count": 9,
   "id": "3d12d94f",
   "metadata": {},
   "outputs": [
    {
     "name": "stdout",
     "output_type": "stream",
     "text": [
      "{1, 4, 5, 6, 7, 8, 9}\n",
      "<class 'set'>\n"
     ]
    }
   ],
   "source": [
    "set1={4,5,6,7,8,9,1}\n",
    "print(set1)\n",
    "print(type(set1))\n"
   ]
  },
  {
   "cell_type": "code",
   "execution_count": 10,
   "id": "1563567b",
   "metadata": {},
   "outputs": [
    {
     "name": "stdout",
     "output_type": "stream",
     "text": [
      "1\n",
      "4\n",
      "5\n",
      "6\n",
      "7\n",
      "8\n",
      "9\n"
     ]
    }
   ],
   "source": [
    "for i in set1:\n",
    "    print(i)"
   ]
  },
  {
   "cell_type": "code",
   "execution_count": 11,
   "id": "3d49626e",
   "metadata": {},
   "outputs": [
    {
     "name": "stdout",
     "output_type": "stream",
     "text": [
      "{1, 4, 5, 6, 7, 8, 9, 2000, 1000}\n"
     ]
    }
   ],
   "source": [
    "set1.update([1000,2000]) #shift+tab gets the info of the function\n",
    "print(set1)"
   ]
  },
  {
   "cell_type": "markdown",
   "id": "e88770d9",
   "metadata": {},
   "source": [
    "# Manipulation functions\n",
    "\n",
    "-> Pre defined functions\n"
   ]
  },
  {
   "cell_type": "code",
   "execution_count": 12,
   "id": "d989c968",
   "metadata": {},
   "outputs": [
    {
     "name": "stdout",
     "output_type": "stream",
     "text": [
      "[1, 2, 3, 4, 5, 6, 7]\n"
     ]
    }
   ],
   "source": [
    "list1=[1,2,3,4,5,6]\n",
    "list1.append(7)\n",
    "print(list1)"
   ]
  },
  {
   "cell_type": "code",
   "execution_count": 13,
   "id": "bd26caef",
   "metadata": {},
   "outputs": [
    {
     "name": "stdout",
     "output_type": "stream",
     "text": [
      "[1, 2, 3, 4, 5, 6, 7, 8, 9, 10]\n"
     ]
    }
   ],
   "source": [
    "list1.extend([8,9,10])\n",
    "print(list1)"
   ]
  },
  {
   "cell_type": "code",
   "execution_count": 14,
   "id": "166cdc64",
   "metadata": {},
   "outputs": [
    {
     "name": "stdout",
     "output_type": "stream",
     "text": [
      "[1, 2, 3, 4, 5, 6, 7, 8, 9, 10, [800, 900, 1000]]\n",
      "800\n"
     ]
    }
   ],
   "source": [
    "list1.append([800,900,1000])\n",
    "print(list1)\n",
    "print(list1[-1][0])#the first bracket returns the value of first list and second indictaes the list inside\n"
   ]
  },
  {
   "cell_type": "code",
   "execution_count": 15,
   "id": "962235b6",
   "metadata": {},
   "outputs": [
    {
     "name": "stdout",
     "output_type": "stream",
     "text": [
      "[]\n"
     ]
    }
   ],
   "source": [
    "l2=[10,20,30,40,50,60]\n",
    "l2.clear()\n",
    "print(l2)"
   ]
  },
  {
   "cell_type": "code",
   "execution_count": 16,
   "id": "6048eb7d",
   "metadata": {},
   "outputs": [],
   "source": [
    "del l2"
   ]
  },
  {
   "cell_type": "code",
   "execution_count": 17,
   "id": "fd5025e6",
   "metadata": {},
   "outputs": [
    {
     "name": "stdout",
     "output_type": "stream",
     "text": [
      "40\n"
     ]
    }
   ],
   "source": [
    "l3=[10,20,30,40]\n",
    "print(l3.pop()) #lifo"
   ]
  },
  {
   "cell_type": "code",
   "execution_count": 18,
   "id": "e398b462",
   "metadata": {},
   "outputs": [
    {
     "data": {
      "text/plain": [
       "30"
      ]
     },
     "execution_count": 18,
     "metadata": {},
     "output_type": "execute_result"
    }
   ],
   "source": [
    "l3.pop()"
   ]
  },
  {
   "cell_type": "code",
   "execution_count": 19,
   "id": "5e0c469f",
   "metadata": {},
   "outputs": [
    {
     "data": {
      "text/plain": [
       "[10, 20, 30, 40]"
      ]
     },
     "execution_count": 19,
     "metadata": {},
     "output_type": "execute_result"
    }
   ],
   "source": [
    "l4=[10,20,30,40]\n",
    "l4"
   ]
  },
  {
   "cell_type": "code",
   "execution_count": 20,
   "id": "bc6de90e",
   "metadata": {},
   "outputs": [
    {
     "name": "stdout",
     "output_type": "stream",
     "text": [
      "[40, 30, 20, 10]\n"
     ]
    }
   ],
   "source": [
    "l4.sort(reverse=True)\n",
    "print(l4)"
   ]
  },
  {
   "cell_type": "code",
   "execution_count": 21,
   "id": "8855561e",
   "metadata": {},
   "outputs": [
    {
     "name": "stdout",
     "output_type": "stream",
     "text": [
      "[50, 40, 30, 20, 10]\n"
     ]
    }
   ],
   "source": [
    "l5=[50,40,30,20,10]\n",
    "\n",
    "print(l5)"
   ]
  },
  {
   "cell_type": "code",
   "execution_count": 22,
   "id": "c44c071b",
   "metadata": {},
   "outputs": [
    {
     "name": "stdout",
     "output_type": "stream",
     "text": [
      "[10, 20, 30, 40, 50]\n"
     ]
    }
   ],
   "source": [
    "l5.sort(reverse=False)\n",
    "print(l5)"
   ]
  },
  {
   "cell_type": "code",
   "execution_count": 23,
   "id": "b57671f3",
   "metadata": {},
   "outputs": [
    {
     "name": "stdout",
     "output_type": "stream",
     "text": [
      "2\n",
      "4\n"
     ]
    }
   ],
   "source": [
    "t1=(10,20,30,40,30)\n",
    "print(t1.count(30))\n",
    "print(t1.index(30,3,5))\n"
   ]
  },
  {
   "cell_type": "code",
   "execution_count": 24,
   "id": "b87e5a4c",
   "metadata": {},
   "outputs": [
    {
     "name": "stdout",
     "output_type": "stream",
     "text": [
      "{1: 'rahul', 2: 'kumar', 3: 'peter'}\n"
     ]
    }
   ],
   "source": [
    "d1={1:\"rahul\",2:\"kumar\",3:\"peter\"}\n",
    "print(d1)\n"
   ]
  },
  {
   "cell_type": "code",
   "execution_count": 25,
   "id": "53d6b1c0",
   "metadata": {},
   "outputs": [
    {
     "data": {
      "text/plain": [
       "'rahul'"
      ]
     },
     "execution_count": 25,
     "metadata": {},
     "output_type": "execute_result"
    }
   ],
   "source": [
    "d1.pop(1)"
   ]
  },
  {
   "cell_type": "code",
   "execution_count": 26,
   "id": "a8a64042",
   "metadata": {},
   "outputs": [
    {
     "data": {
      "text/plain": [
       "(3, 'peter')"
      ]
     },
     "execution_count": 26,
     "metadata": {},
     "output_type": "execute_result"
    }
   ],
   "source": [
    "d1.popitem()"
   ]
  },
  {
   "cell_type": "code",
   "execution_count": 27,
   "id": "d885dbec",
   "metadata": {},
   "outputs": [
    {
     "name": "stdout",
     "output_type": "stream",
     "text": [
      "{2: 'kumar'}\n"
     ]
    }
   ],
   "source": [
    "print(d1)"
   ]
  },
  {
   "cell_type": "code",
   "execution_count": 28,
   "id": "e89b8d06",
   "metadata": {},
   "outputs": [
    {
     "name": "stdout",
     "output_type": "stream",
     "text": [
      "dict_keys([1, 2, 3]) dict_values(['sp', 'mp', 'kp']) dict_items([(1, 'sp'), (2, 'mp'), (3, 'kp')])\n"
     ]
    }
   ],
   "source": [
    "d2={1:\"sp\",2:\"mp\",3:\"kp\"}\n",
    "print(d2.keys(),d2.values(),d2.items())"
   ]
  },
  {
   "cell_type": "code",
   "execution_count": 29,
   "id": "20613700",
   "metadata": {},
   "outputs": [
    {
     "name": "stdout",
     "output_type": "stream",
     "text": [
      "{1: 'sp', 2: 'mp', 3: 'kp'} {1: 'sp', 2: 'mp', 3: 'kp'}\n"
     ]
    }
   ],
   "source": [
    "d3=d2.copy()\n",
    "print(d3,d2)"
   ]
  },
  {
   "cell_type": "code",
   "execution_count": 30,
   "id": "b4e21e70",
   "metadata": {},
   "outputs": [
    {
     "name": "stdout",
     "output_type": "stream",
     "text": [
      "{0, 1, 2, 3, 4, 5, 7, 8, 9}\n",
      "{5}\n"
     ]
    }
   ],
   "source": [
    "set_union1={1,2,3,4,5}\n",
    "set_union2={5,0,9,8,7}\n",
    "print(set_union1.union(set_union2))\n",
    "print(set_union1.intersection(set_union2))"
   ]
  },
  {
   "cell_type": "code",
   "execution_count": 31,
   "id": "88d5ec7d",
   "metadata": {},
   "outputs": [
    {
     "name": "stdout",
     "output_type": "stream",
     "text": [
      "True\n",
      "True\n",
      "False\n"
     ]
    }
   ],
   "source": [
    "set_union3={1,2,3,4,5}\n",
    "set_union4={4,5}\n",
    "print(set_union3.issuperset(set_union4))\n",
    "print(set_union4.issubset(set_union3))\n",
    "print(set_union4.isdisjoint(set_union3))"
   ]
  },
  {
   "cell_type": "code",
   "execution_count": 32,
   "id": "35159997",
   "metadata": {},
   "outputs": [
    {
     "name": "stdout",
     "output_type": "stream",
     "text": [
      "before {1, 2, 3, 4, 5}\n",
      "after {4, 5}\n"
     ]
    }
   ],
   "source": [
    "print(\"before\",set_union3)    \n",
    "set_union3.intersection_update(set_union4)\n",
    "print(\"after\",set_union3)"
   ]
  },
  {
   "cell_type": "code",
   "execution_count": 33,
   "id": "22230b08",
   "metadata": {},
   "outputs": [
    {
     "name": "stdout",
     "output_type": "stream",
     "text": [
      "{3, 4, 5}\n"
     ]
    }
   ],
   "source": [
    "set_union5={1,2,3,4,5}\n",
    "set_union6={1,2,7,8,9}\n",
    "print(set_union5.difference(set_union6))"
   ]
  },
  {
   "cell_type": "code",
   "execution_count": 34,
   "id": "f52c248b",
   "metadata": {},
   "outputs": [
    {
     "name": "stdout",
     "output_type": "stream",
     "text": [
      "before {1, 2, 3, 4, 5}\n",
      "after {3, 4, 5}\n"
     ]
    }
   ],
   "source": [
    "print(\"before\",set_union5)\n",
    "set_union5.difference_update(set_union6)\n",
    "print(\"after\",set_union5)"
   ]
  },
  {
   "cell_type": "code",
   "execution_count": 35,
   "id": "b81b97e8",
   "metadata": {},
   "outputs": [
    {
     "name": "stdout",
     "output_type": "stream",
     "text": [
      "{2, 7, 8, 9}\n"
     ]
    }
   ],
   "source": [
    "#remove and discard\n",
    "set_union6.remove(1)\n",
    "print(set_union6)"
   ]
  },
  {
   "cell_type": "code",
   "execution_count": 36,
   "id": "8e1c1432",
   "metadata": {},
   "outputs": [
    {
     "name": "stdout",
     "output_type": "stream",
     "text": [
      "{7, 8, 9}\n"
     ]
    }
   ],
   "source": [
    "set_union6.discard(2)\n",
    "print(set_union6)"
   ]
  },
  {
   "cell_type": "code",
   "execution_count": 37,
   "id": "57b97432",
   "metadata": {},
   "outputs": [],
   "source": [
    "set_union6.discard(2)"
   ]
  },
  {
   "cell_type": "code",
   "execution_count": 38,
   "id": "0880de09",
   "metadata": {},
   "outputs": [
    {
     "name": "stdout",
     "output_type": "stream",
     "text": [
      "{7, 8, 9}\n"
     ]
    }
   ],
   "source": [
    "print(set_union6)"
   ]
  },
  {
   "cell_type": "markdown",
   "id": "f694463c",
   "metadata": {},
   "source": [
    "# Functions"
   ]
  },
  {
   "cell_type": "code",
   "execution_count": 39,
   "id": "534de5e6",
   "metadata": {},
   "outputs": [],
   "source": [
    "#non parameterised function\n",
    "def my_function():\n",
    "    print(\"hello welcome to a function\")"
   ]
  },
  {
   "cell_type": "code",
   "execution_count": 40,
   "id": "ac7b3939",
   "metadata": {},
   "outputs": [
    {
     "name": "stdout",
     "output_type": "stream",
     "text": [
      "hello welcome to a function\n"
     ]
    }
   ],
   "source": [
    "my_function()"
   ]
  },
  {
   "cell_type": "code",
   "execution_count": 41,
   "id": "f5c9042b",
   "metadata": {},
   "outputs": [],
   "source": [
    "#parameterised function\n",
    "\n",
    "def my_function1(name):\n",
    "    print(\"my name is\",name)"
   ]
  },
  {
   "cell_type": "code",
   "execution_count": 42,
   "id": "365b6c72",
   "metadata": {},
   "outputs": [
    {
     "name": "stdout",
     "output_type": "stream",
     "text": [
      "my name is shreyas\n"
     ]
    }
   ],
   "source": [
    "my_function1(\"shreyas\")"
   ]
  },
  {
   "cell_type": "code",
   "execution_count": 43,
   "id": "82c539cf",
   "metadata": {},
   "outputs": [],
   "source": [
    "def add(a,b):\n",
    "    sum=a+b\n",
    "    print(sum)"
   ]
  },
  {
   "cell_type": "code",
   "execution_count": 44,
   "id": "c8bf1632",
   "metadata": {},
   "outputs": [
    {
     "name": "stdout",
     "output_type": "stream",
     "text": [
      "7\n"
     ]
    }
   ],
   "source": [
    "add(3,4)"
   ]
  },
  {
   "cell_type": "code",
   "execution_count": 45,
   "id": "c41c97d5",
   "metadata": {},
   "outputs": [],
   "source": [
    "def  main():\n",
    "    my_function1(\"shreyas\")\n",
    "    add(3,4)"
   ]
  },
  {
   "cell_type": "code",
   "execution_count": 46,
   "id": "18ef0e1a",
   "metadata": {},
   "outputs": [
    {
     "name": "stdout",
     "output_type": "stream",
     "text": [
      "my name is shreyas\n",
      "7\n"
     ]
    }
   ],
   "source": [
    "if __name__== \"__main__\" :\n",
    "    main()"
   ]
  },
  {
   "cell_type": "code",
   "execution_count": 50,
   "id": "56c8398b",
   "metadata": {},
   "outputs": [
    {
     "name": "stdout",
     "output_type": "stream",
     "text": [
      "enter the value of a:10\n",
      "enter the value of b:20\n",
      "10 20\n",
      "30\n"
     ]
    }
   ],
   "source": [
    "a=int(input('enter the value of a:'))\n",
    "b=int(input('enter the value of b:'))\n",
    "print(a,b)\n",
    "sum2=a+b\n",
    "print(sum2)"
   ]
  },
  {
   "cell_type": "code",
   "execution_count": 54,
   "id": "eefc2b5d",
   "metadata": {},
   "outputs": [
    {
     "name": "stdout",
     "output_type": "stream",
     "text": [
      "enter the value of a:10\n",
      "enter the value of b:20\n",
      "30\n"
     ]
    }
   ],
   "source": [
    "a1=int(input('enter the value of a:'))\n",
    "b1=int(input('enter the value of b:'))\n",
    "\n",
    "def add():\n",
    "    sum1=a1+b1\n",
    "    print(sum1)\n",
    "    \n",
    "add()\n",
    "    "
   ]
  },
  {
   "cell_type": "code",
   "execution_count": null,
   "id": "7288e95b",
   "metadata": {},
   "outputs": [],
   "source": []
  }
 ],
 "metadata": {
  "kernelspec": {
   "display_name": "Python 3 (ipykernel)",
   "language": "python",
   "name": "python3"
  },
  "language_info": {
   "codemirror_mode": {
    "name": "ipython",
    "version": 3
   },
   "file_extension": ".py",
   "mimetype": "text/x-python",
   "name": "python",
   "nbconvert_exporter": "python",
   "pygments_lexer": "ipython3",
   "version": "3.9.7"
  }
 },
 "nbformat": 4,
 "nbformat_minor": 5
}
