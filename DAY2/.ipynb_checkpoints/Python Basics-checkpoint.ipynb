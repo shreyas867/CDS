{
 "cells": [
  {
   "cell_type": "markdown",
   "id": "7a3a5a08",
   "metadata": {},
   "source": [
    "# Python \n",
    "\n",
    "* Simple language\n",
    "* Platform independent\n",
    "* Dynamic\n",
    "* Object Oriented\n",
    "* Open Source"
   ]
  },
  {
   "cell_type": "markdown",
   "id": "b58294e8",
   "metadata": {},
   "source": [
    "## Variable\n",
    "\n",
    "1. Container\n",
    "2. Identifier\n",
    "3. Name given to a memory location\n",
    "\n",
    "\n",
    "\n",
    "## Data type \n",
    "\n",
    "1. Numberic(int, float, complex)\n",
    "2. Text Type(Strings, characters)\n",
    "3. Sequence(list,tuples)\n",
    "4. Mapping->map value to a unique key values(Dictionaries)\n",
    "5. Set type(set)\n",
    "6. Boolean(T/F)\n",
    "\n",
    "\n",
    "\n"
   ]
  },
  {
   "cell_type": "code",
   "execution_count": 3,
   "id": "7e75f4c2",
   "metadata": {},
   "outputs": [
    {
     "name": "stdout",
     "output_type": "stream",
     "text": [
      "Hello world to datamites\n"
     ]
    }
   ],
   "source": [
    "print(\"Hello world to datamites\") #shift+enter"
   ]
  },
  {
   "cell_type": "markdown",
   "id": "812c1a29",
   "metadata": {},
   "source": [
    "#data analysis   #esc+m to do a markdown\n",
    "#markdown---> notes\n",
    "\n",
    "**hello world**\n",
    "\n",
    "### hello world\n"
   ]
  },
  {
   "cell_type": "markdown",
   "id": "f5faa7fa",
   "metadata": {},
   "source": [
    "single quotes and double quotes both will work\n"
   ]
  },
  {
   "cell_type": "code",
   "execution_count": 19,
   "id": "0c76c6b7",
   "metadata": {},
   "outputs": [
    {
     "name": "stdout",
     "output_type": "stream",
     "text": [
      "The value of a is 10\n",
      "data type of variable a is: <class 'int'>\n",
      "The value of b is 5.5\n",
      "data type of variable b is: <class 'float'>\n",
      "The value of c is (10+5j)\n",
      "data type of variable c is: <class 'complex'>\n",
      "10.0 5.0\n"
     ]
    }
   ],
   "source": [
    "# variable is the container which stores a value\n",
    "#numeric data types\n",
    "a=10\n",
    "b=5.5\n",
    "c=10+5j\n",
    "print(\"The value of a is\",a)\n",
    "print(\"data type of variable a is:\", type(a))\n",
    "print(\"The value of b is\",b)\n",
    "print(\"data type of variable b is:\", type(b))\n",
    "print(\"The value of c is\",c)\n",
    "print(\"data type of variable c is:\", type(c))\n",
    "print(c.real , c.imag)\n",
    "\n",
    "\n"
   ]
  },
  {
   "cell_type": "markdown",
   "id": "397b8725",
   "metadata": {},
   "source": [
    "# String \n",
    "\n",
    "Sequence of characters"
   ]
  },
  {
   "cell_type": "code",
   "execution_count": 29,
   "id": "0b88009a",
   "metadata": {},
   "outputs": [
    {
     "name": "stdout",
     "output_type": "stream",
     "text": [
      "hello world\n",
      "he\n",
      "or\n",
      "h\n",
      "hello\n",
      "he\n",
      "ello world\n",
      "hello worl\n",
      "hello worl\n"
     ]
    }
   ],
   "source": [
    "str1='hello world'\n",
    "print(str1)\n",
    "print(str1[0:2])\n",
    "print(str1[-4:-2])\n",
    "print(str1[0])\n",
    "print(str1[0:5])\n",
    "print(str1[-11:-9])\n",
    "print(str1[1:])\n",
    "print(str1[:10])\n",
    "print(str1[:-1])\n",
    "\n"
   ]
  },
  {
   "cell_type": "code",
   "execution_count": null,
   "id": "7caa4753",
   "metadata": {},
   "outputs": [],
   "source": []
  }
 ],
 "metadata": {
  "kernelspec": {
   "display_name": "Python 3 (ipykernel)",
   "language": "python",
   "name": "python3"
  },
  "language_info": {
   "codemirror_mode": {
    "name": "ipython",
    "version": 3
   },
   "file_extension": ".py",
   "mimetype": "text/x-python",
   "name": "python",
   "nbconvert_exporter": "python",
   "pygments_lexer": "ipython3",
   "version": "3.9.7"
  }
 },
 "nbformat": 4,
 "nbformat_minor": 5
}
