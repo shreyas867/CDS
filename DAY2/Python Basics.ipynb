{
 "cells": [
  {
   "cell_type": "markdown",
   "id": "7a3a5a08",
   "metadata": {},
   "source": [
    "# Python \n",
    "\n",
    "* Simple language\n",
    "* Platform independent\n",
    "* Dynamic\n",
    "* Object Oriented\n",
    "* Open Source"
   ]
  },
  {
   "cell_type": "markdown",
   "id": "b58294e8",
   "metadata": {},
   "source": [
    "## Variable\n",
    "\n",
    "1. Container\n",
    "2. Identifier\n",
    "3. Name given to a memory location\n",
    "\n",
    "\n",
    "\n",
    "## Data type \n",
    "\n",
    "1. Numberic(int, float, complex)\n",
    "2. Text Type(Strings, characters)\n",
    "3. Sequence(list,tuples)\n",
    "4. Mapping->map value to a unique key values(Dictionaries)\n",
    "5. Set type(set)\n",
    "6. Boolean(T/F)\n",
    "\n",
    "\n",
    "\n"
   ]
  },
  {
   "cell_type": "code",
   "execution_count": 3,
   "id": "7e75f4c2",
   "metadata": {},
   "outputs": [
    {
     "name": "stdout",
     "output_type": "stream",
     "text": [
      "Hello world to datamites\n"
     ]
    }
   ],
   "source": [
    "print(\"Hello world to datamites\") #shift+enter"
   ]
  },
  {
   "cell_type": "markdown",
   "id": "812c1a29",
   "metadata": {},
   "source": [
    "#data analysis   #esc+m to do a markdown\n",
    "#markdown---> notes\n",
    "\n",
    "**hello world**\n",
    "\n",
    "### hello world\n"
   ]
  },
  {
   "cell_type": "markdown",
   "id": "f5faa7fa",
   "metadata": {},
   "source": [
    "single quotes and double quotes both will work\n"
   ]
  },
  {
   "cell_type": "code",
   "execution_count": 19,
   "id": "0c76c6b7",
   "metadata": {},
   "outputs": [
    {
     "name": "stdout",
     "output_type": "stream",
     "text": [
      "The value of a is 10\n",
      "data type of variable a is: <class 'int'>\n",
      "The value of b is 5.5\n",
      "data type of variable b is: <class 'float'>\n",
      "The value of c is (10+5j)\n",
      "data type of variable c is: <class 'complex'>\n",
      "10.0 5.0\n"
     ]
    }
   ],
   "source": [
    "# variable is the container which stores a value\n",
    "#numeric data types\n",
    "a=10\n",
    "b=5.5\n",
    "c=10+5j\n",
    "print(\"The value of a is\",a)\n",
    "print(\"data type of variable a is:\", type(a))\n",
    "print(\"The value of b is\",b)\n",
    "print(\"data type of variable b is:\", type(b))\n",
    "print(\"The value of c is\",c)\n",
    "print(\"data type of variable c is:\", type(c))\n",
    "print(c.real , c.imag)\n",
    "\n",
    "\n"
   ]
  },
  {
   "cell_type": "markdown",
   "id": "397b8725",
   "metadata": {},
   "source": [
    "# String \n",
    "\n",
    "Sequence of characters"
   ]
  },
  {
   "cell_type": "code",
   "execution_count": 29,
   "id": "0b88009a",
   "metadata": {},
   "outputs": [
    {
     "name": "stdout",
     "output_type": "stream",
     "text": [
      "hello world\n",
      "he\n",
      "or\n",
      "h\n",
      "hello\n",
      "he\n",
      "ello world\n",
      "hello worl\n",
      "hello worl\n"
     ]
    }
   ],
   "source": [
    "str1='hello world'\n",
    "print(str1)\n",
    "print(str1[0:2])\n",
    "print(str1[-4:-2])\n",
    "print(str1[0])\n",
    "print(str1[0:5])\n",
    "print(str1[-11:-9])\n",
    "print(str1[1:])\n",
    "print(str1[:10])\n",
    "print(str1[:-1])\n",
    "\n"
   ]
  },
  {
   "cell_type": "code",
   "execution_count": 31,
   "id": "7caa4753",
   "metadata": {},
   "outputs": [
    {
     "name": "stdout",
     "output_type": "stream",
     "text": [
      "10\n",
      "<class 'int'>\n",
      "<class 'float'>\n",
      "10.0\n"
     ]
    }
   ],
   "source": [
    "#type casting\n",
    "\n",
    "i=10\n",
    "print(i)\n",
    "print(type(i))\n",
    "f=float(i)\n",
    "print(type(f))\n",
    "print(f)"
   ]
  },
  {
   "cell_type": "code",
   "execution_count": 32,
   "id": "8d39386d",
   "metadata": {},
   "outputs": [
    {
     "name": "stdout",
     "output_type": "stream",
     "text": [
      "10.5\n",
      "<class 'float'>\n",
      "<class 'int'>\n",
      "10\n"
     ]
    }
   ],
   "source": [
    "i=10.5\n",
    "print(i)\n",
    "print(type(i))\n",
    "f=int(i)\n",
    "print(type(f))\n",
    "print(f)"
   ]
  },
  {
   "cell_type": "code",
   "execution_count": 35,
   "id": "03bf76aa",
   "metadata": {},
   "outputs": [
    {
     "name": "stdout",
     "output_type": "stream",
     "text": [
      "5\n",
      "<class 'str'>\n",
      "<class 'int'>\n",
      "5\n"
     ]
    }
   ],
   "source": [
    "i='5'\n",
    "print(i)\n",
    "print(type(i))\n",
    "f=int(i)\n",
    "print(type(f))\n",
    "print(f)"
   ]
  },
  {
   "cell_type": "code",
   "execution_count": 39,
   "id": "3980d33c",
   "metadata": {},
   "outputs": [
    {
     "name": "stdout",
     "output_type": "stream",
     "text": [
      "True\n",
      "<class 'bool'>\n"
     ]
    }
   ],
   "source": [
    "#boolean\n",
    "\n",
    "a= True\n",
    "print(a)\n",
    "print(type(a))"
   ]
  },
  {
   "cell_type": "code",
   "execution_count": 47,
   "id": "61f8b9a9",
   "metadata": {},
   "outputs": [
    {
     "name": "stdout",
     "output_type": "stream",
     "text": [
      "True <class 'bool'>\n",
      "****************************************\n",
      "True <class 'bool'>\n",
      "1 <class 'int'>\n",
      "1.0 <class 'float'>\n"
     ]
    }
   ],
   "source": [
    "#int,float to bool\n",
    "i= 10\n",
    "j=5.5\n",
    "b1=bool(i)\n",
    "b2=bool(j)\n",
    "print(b1,type(b1))\n",
    "print(\"*\"*40)\n",
    "print(b2,type(b2))\n",
    "#bool to int,float\n",
    "i1=int(a)\n",
    "print(i1,type(i1))\n",
    "i2=float(a)\n",
    "print(i2,type(i2))"
   ]
  },
  {
   "cell_type": "markdown",
   "id": "db19703c",
   "metadata": {},
   "source": []
  },
  {
   "cell_type": "code",
   "execution_count": 49,
   "id": "297e70b0",
   "metadata": {},
   "outputs": [
    {
     "name": "stdout",
     "output_type": "stream",
     "text": [
      "[] <class 'list'>\n",
      "[] <class 'list'>\n"
     ]
    }
   ],
   "source": [
    "#list ==> collection of elements\n",
    "l1=list() #empty list\n",
    "print(l1, type(l1))\n",
    "l2=[]\n",
    "print(l2, type(l2))"
   ]
  },
  {
   "cell_type": "code",
   "execution_count": 54,
   "id": "7c2780cd",
   "metadata": {},
   "outputs": [
    {
     "name": "stdout",
     "output_type": "stream",
     "text": [
      "[1, 2, 3, 4, 5, 6, 20.5, (10+5j), 'hi', 2, 3, 4]\n"
     ]
    }
   ],
   "source": [
    "#ordered list\n",
    "#presering the insertion order\n",
    "l1=[1,2,3,4,5,6,20.5,10+5j,\"hi\"]+[2,3,4]\n",
    "print(l1)"
   ]
  },
  {
   "cell_type": "code",
   "execution_count": 55,
   "id": "3429d5e0",
   "metadata": {},
   "outputs": [
    {
     "name": "stdout",
     "output_type": "stream",
     "text": [
      "[100, 2, 3, 4, 5, 6, 20.5, (10+5j), 'hi', 2, 3, 4]\n"
     ]
    }
   ],
   "source": [
    "#mutable --> changeable\n",
    "l1[0]=100\n",
    "print(l1)\n"
   ]
  },
  {
   "cell_type": "code",
   "execution_count": 56,
   "id": "1776018e",
   "metadata": {},
   "outputs": [
    {
     "name": "stdout",
     "output_type": "stream",
     "text": [
      "100\n",
      "2\n",
      "3\n",
      "4\n",
      "5\n",
      "6\n",
      "20.5\n",
      "(10+5j)\n",
      "hi\n",
      "2\n",
      "3\n",
      "4\n"
     ]
    }
   ],
   "source": [
    "for i in l1:\n",
    "    print(i)"
   ]
  },
  {
   "cell_type": "code",
   "execution_count": 68,
   "id": "bb225d1e",
   "metadata": {},
   "outputs": [
    {
     "name": "stdout",
     "output_type": "stream",
     "text": [
      "100\n",
      "2\n",
      "3\n",
      "4\n",
      "5\n",
      "6\n",
      "20.5\n",
      "(10+5j)\n",
      "hi\n",
      "2\n",
      "3\n",
      "4\n"
     ]
    }
   ],
   "source": [
    "i=0\n",
    "while i<len(l1):\n",
    "    print(l1[i])\n",
    "    i=i+1"
   ]
  },
  {
   "cell_type": "code",
   "execution_count": 73,
   "id": "06f59c18",
   "metadata": {},
   "outputs": [
    {
     "name": "stdout",
     "output_type": "stream",
     "text": [
      "(1, 2, 3, 4, 5)\n"
     ]
    }
   ],
   "source": [
    "tuple1= tuple([1,2,3,4,5])\n",
    "print(tuple1)\n"
   ]
  },
  {
   "cell_type": "code",
   "execution_count": 75,
   "id": "25103efb",
   "metadata": {},
   "outputs": [
    {
     "name": "stdout",
     "output_type": "stream",
     "text": [
      "(1, 2, 3, 10.5)\n"
     ]
    }
   ],
   "source": [
    "t1=(1,2,3,10.5)\n",
    "print(t1)"
   ]
  },
  {
   "cell_type": "code",
   "execution_count": 76,
   "id": "12b22e7b",
   "metadata": {},
   "outputs": [
    {
     "name": "stdout",
     "output_type": "stream",
     "text": [
      "1\n",
      "2\n",
      "3\n",
      "10.5\n"
     ]
    }
   ],
   "source": [
    "for i in t1:\n",
    "    print(i)"
   ]
  }
 ],
 "metadata": {
  "kernelspec": {
   "display_name": "Python 3 (ipykernel)",
   "language": "python",
   "name": "python3"
  },
  "language_info": {
   "codemirror_mode": {
    "name": "ipython",
    "version": 3
   },
   "file_extension": ".py",
   "mimetype": "text/x-python",
   "name": "python",
   "nbconvert_exporter": "python",
   "pygments_lexer": "ipython3",
   "version": "3.9.7"
  }
 },
 "nbformat": 4,
 "nbformat_minor": 5
}
